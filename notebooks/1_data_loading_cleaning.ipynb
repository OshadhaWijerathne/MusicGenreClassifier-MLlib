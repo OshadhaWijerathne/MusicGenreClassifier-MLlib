{
 "cells": [
  {
   "cell_type": "code",
   "execution_count": 1,
   "id": "0670c58d",
   "metadata": {},
   "outputs": [],
   "source": [
    "# Import Spark\n",
    "from pyspark.sql import SparkSession\n",
    "from pyspark.sql.functions import col"
   ]
  },
  {
   "cell_type": "code",
   "execution_count": 2,
   "id": "ad3e34a5",
   "metadata": {},
   "outputs": [],
   "source": [
    "# Create Spark session\n",
    "try:\n",
    "    spark.stop()\n",
    "except:\n",
    "    pass\n",
    "\n",
    "# Optimized for i5 11th gen + 16GB RAM\n",
    "spark = SparkSession.builder \\\n",
    "    .appName(\"Music_Classifier\") \\\n",
    "    .master(\"local[2]\") \\\n",
    "    .config(\"spark.driver.memory\", \"4g\") \\\n",
    "    .config(\"spark.executor.memory\", \"2g\") \\\n",
    "    .config(\"spark.sql.execution.arrow.pyspark.enabled\", \"false\") \\\n",
    "    .getOrCreate()"
   ]
  },
  {
   "cell_type": "code",
   "execution_count": 4,
   "id": "ddd69df8",
   "metadata": {},
   "outputs": [
    {
     "name": "stdout",
     "output_type": "stream",
     "text": [
      "+---+--------------------+--------------------+------------+-----+--------------------+---+--------------------+--------------------+--------------------+--------------------+--------------------+--------------------+--------------------+--------------------+--------------------+--------------------+--------------------+------------------------+--------------------+--------------------+--------------------+--------------------+-------------------+-------------------+-------------------+--------------------+-------------------+-------------------+----------+---+\n",
      "|_c0|         artist_name|          track_name|release_date|genre|              lyrics|len|              dating|            violence|          world/life|          night/time|  shake the audience|       family/gospel|            romantic|       communication|             obscene|               music|     movement/places|light/visual perceptions|    family/spiritual|          like/girls|             sadness|            feelings|       danceability|           loudness|       acousticness|    instrumentalness|            valence|             energy|     topic|age|\n",
      "+---+--------------------+--------------------+------------+-----+--------------------+---+--------------------+--------------------+--------------------+--------------------+--------------------+--------------------+--------------------+--------------------+--------------------+--------------------+--------------------+------------------------+--------------------+--------------------+--------------------+--------------------+-------------------+-------------------+-------------------+--------------------+-------------------+-------------------+----------+---+\n",
      "|  0|              mukesh|mohabbat bhi jhoothi|        1950|  pop|hold time feel br...| 95| 5.98086126288938E-4| 0.06374612761149936|5.980861568711991E-4|5.980861851733603E-4|5.980861274492461E-4| 0.04885701521695907|  0.0171043388602836|  0.2637508813174463|5.980861613241781E-4| 0.03928836592552566|5.980861922640663E-4|    5.980861380272807E-4|5.980861261369507E-4|5.980861796080522E-4|   0.380298895230333| 0.11717545142309628|0.35773854651792486|0.45411891392969767| 0.9979919658553876|  0.9018218623481781|0.33944765045342123|0.13711018802589228|   sadness|1.0|\n",
      "|  4|       frankie laine|           i believe|        1950|  pop|believe drop rain...| 51|  0.0355371338259024| 0.09677674227829695| 0.44343517381864045|0.001283697113893...|0.001283697054027...| 0.02700747737752981|0.001283697149879...|0.001283697122283...|0.001283697114412...| 0.11803384116823598|0.001283697092589732|      0.2126810671851602| 0.05112419901776462|0.001283697056361...|0.001283697130026...|0.001283697175168...|0.33174482833315283|   0.64753993282568| 0.9548192317462166|1.528340080971659...| 0.3250206100577081| 0.2632402533492537|world/life|1.0|\n",
      "|  6|         johnnie ray|                 cry|        1950|  pop|sweetheart send l...| 24|0.002770083112964...|0.002770083216950...|0.002770083338284...|0.002770083310265701|0.002770083105133...| 0.00277008314953857| 0.15856446565813143| 0.25066790992061416|0.002770083254843025|  0.3237940521915833|0.002770083466243...|    0.002770083321430...|0.002770083291967...|0.002770083513581458|0.002770083190828636| 0.22542232330826406|0.45629806130185213|  0.585288311155552| 0.8403612855032989|                 0.0|0.35181368507831823|0.13911225255483453|     music|1.0|\n",
      "| 10|         pérez prado|            patricia|        1950|  pop|kiss lips want st...| 54| 0.04824912378369902|0.001547987647649...|0.001547987736006...|0.001547987822572...|0.021500355476212204|0.001547987658152495| 0.41153582463430627|0.001547987749586...|0.001547987713396...|0.001547987673344...|  0.1292497848687442|    0.001547987722954...|0.001547987649057...|  0.0811317603482602| 0.22588948422032734|0.001547987619397...| 0.6869923101917037| 0.7444042765941081|0.08393482322773417| 0.19939271255060728| 0.7753503709810387| 0.7437357402953926|  romantic|1.0|\n",
      "| 12|giorgos papadopoulos|  apopse eida oneiro|        1950|  pop|till darling till...| 48|0.001349527698357...|0.001349527710717...|  0.4177722727138843|0.001349527769804...|0.001349527675244...|0.001349527706827...| 0.46343009486128023|0.001349527805997...|0.001349527691256...|0.001349527677136...|0.001349527712799...|    0.001349527797172...|0.029754565101290716|0.001349527684528...| 0.06880015162837107|0.001349527670906...| 0.2916711794649627| 0.6464887316360279| 0.9759035902646489|2.459514170040486E-4|  0.597073371805441| 0.3943754799949707|  romantic|1.0|\n",
      "+---+--------------------+--------------------+------------+-----+--------------------+---+--------------------+--------------------+--------------------+--------------------+--------------------+--------------------+--------------------+--------------------+--------------------+--------------------+--------------------+------------------------+--------------------+--------------------+--------------------+--------------------+-------------------+-------------------+-------------------+--------------------+-------------------+-------------------+----------+---+\n",
      "only showing top 5 rows\n",
      "\n"
     ]
    }
   ],
   "source": [
    "# Load raw dataset\n",
    "df = spark.read.csv(\"./notebook_data/Mendeley_dataset.csv\", header=True, inferSchema=True)\n",
    "df.show(5)"
   ]
  },
  {
   "cell_type": "code",
   "execution_count": 4,
   "id": "6b88f02d",
   "metadata": {},
   "outputs": [],
   "source": [
    "df = df.dropDuplicates()"
   ]
  },
  {
   "cell_type": "code",
   "execution_count": 5,
   "id": "0c9c55bf",
   "metadata": {},
   "outputs": [],
   "source": [
    "df = df.select(\"lyrics\", \"genre\")\n",
    "df = df.dropna(subset=[\"lyrics\", \"genre\"])"
   ]
  },
  {
   "cell_type": "code",
   "execution_count": 6,
   "id": "302b1e82",
   "metadata": {},
   "outputs": [
    {
     "name": "stdout",
     "output_type": "stream",
     "text": [
      "root\n",
      " |-- lyrics: string (nullable = true)\n",
      " |-- genre: string (nullable = true)\n",
      "\n",
      "+--------------------+-----+\n",
      "|              lyrics|genre|\n",
      "+--------------------+-----+\n",
      "|bible thousand ye...|  pop|\n",
      "|know fine wanna t...|  pop|\n",
      "|little funny feel...|  pop|\n",
      "|read read birth s...|  pop|\n",
      "|lonely place musi...|  pop|\n",
      "+--------------------+-----+\n",
      "only showing top 5 rows\n",
      "\n"
     ]
    }
   ],
   "source": [
    "df.printSchema()\n",
    "df.show(5)"
   ]
  },
  {
   "cell_type": "code",
   "execution_count": 7,
   "id": "86a84af8",
   "metadata": {},
   "outputs": [
    {
     "name": "stdout",
     "output_type": "stream",
     "text": [
      "Training data count: 22813\n",
      "Test data count: 5559\n"
     ]
    }
   ],
   "source": [
    "# Split the data into training and testing sets\n",
    "(train_df, test_df) = df.randomSplit([0.8, 0.2], seed=42)\n",
    "\n",
    "print(f\"Training data count: {train_df.count()}\")\n",
    "print(f\"Test data count: {test_df.count()}\")"
   ]
  },
  {
   "cell_type": "code",
   "execution_count": null,
   "id": "f5683731",
   "metadata": {},
   "outputs": [],
   "source": [
    "# Save cleaned dataset\n",
    "train_df.write.mode(\"overwrite\").csv(\"./notebook_data/Mendeley_cleaned_train.csv\", header=True)\n",
    "test_df.write.mode(\"overwrite\").csv(\"./notebook_data/Mendeley_cleaned_test.csv\", header=True)"
   ]
  }
 ],
 "metadata": {
  "kernelspec": {
   "display_name": "music_classifier",
   "language": "python",
   "name": "python3"
  },
  "language_info": {
   "codemirror_mode": {
    "name": "ipython",
    "version": 3
   },
   "file_extension": ".py",
   "mimetype": "text/x-python",
   "name": "python",
   "nbconvert_exporter": "python",
   "pygments_lexer": "ipython3",
   "version": "3.11.0"
  }
 },
 "nbformat": 4,
 "nbformat_minor": 5
}
