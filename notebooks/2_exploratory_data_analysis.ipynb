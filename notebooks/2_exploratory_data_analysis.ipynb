{
 "cells": [
  {
   "cell_type": "code",
   "execution_count": 1,
   "id": "0900506b",
   "metadata": {},
   "outputs": [],
   "source": [
    "from pyspark.sql import SparkSession\n",
    "from pyspark.sql.functions import length,col\n",
    "import matplotlib.pyplot as plt"
   ]
  },
  {
   "cell_type": "code",
   "execution_count": 2,
   "id": "11eef38a",
   "metadata": {},
   "outputs": [],
   "source": [
    "# Stop any existing Spark context\n",
    "try:\n",
    "    spark.stop()\n",
    "except:\n",
    "    pass\n",
    "\n",
    "# Optimized for i5 11th gen + 16GB RAM\n",
    "spark = SparkSession.builder \\\n",
    "    .appName(\"Music_Classifier\") \\\n",
    "    .master(\"local[2]\") \\\n",
    "    .config(\"spark.driver.memory\", \"4g\") \\\n",
    "    .config(\"spark.executor.memory\", \"2g\") \\\n",
    "    .config(\"spark.sql.execution.arrow.pyspark.enabled\", \"false\") \\\n",
    "    .getOrCreate()"
   ]
  },
  {
   "cell_type": "code",
   "execution_count": null,
   "id": "4424f62a",
   "metadata": {},
   "outputs": [],
   "source": [
    "df_train = spark.read.csv(\"./notebook_data/Mendeley_cleaned_train.csv\", header=True, inferSchema=True)"
   ]
  },
  {
   "cell_type": "code",
   "execution_count": 4,
   "id": "60a65e01",
   "metadata": {},
   "outputs": [
    {
     "name": "stdout",
     "output_type": "stream",
     "text": [
      "+-------+-----+\n",
      "|  genre|count|\n",
      "+-------+-----+\n",
      "|    pop| 5658|\n",
      "|  blues| 3723|\n",
      "|   jazz| 3130|\n",
      "|hip hop|  707|\n",
      "|country| 4382|\n",
      "|   rock| 3195|\n",
      "| reggae| 2018|\n",
      "+-------+-----+\n",
      "\n",
      "+-------+------------------+\n",
      "|  genre|avg(lyrics_length)|\n",
      "+-------+------------------+\n",
      "|    pop| 481.5629197596324|\n",
      "|  blues| 384.3228579102874|\n",
      "|   jazz|445.00575079872203|\n",
      "|hip hop| 614.5615275813295|\n",
      "|country| 380.0264719306253|\n",
      "|   rock| 408.6638497652582|\n",
      "| reggae| 610.1516352824578|\n",
      "+-------+------------------+\n",
      "\n"
     ]
    }
   ],
   "source": [
    "# Count songs per genre\n",
    "df_train.groupBy(\"genre\").count().show()\n",
    "\n",
    "# Lyrics length column\n",
    "df_train = df_train.withColumn(\"lyrics_length\", length(col(\"lyrics\")))\n",
    "\n",
    "# Average lyrics length per genre\n",
    "df_train.groupBy(\"genre\").avg(\"lyrics_length\").show()"
   ]
  },
  {
   "cell_type": "code",
   "execution_count": 5,
   "id": "6571a5b2",
   "metadata": {},
   "outputs": [
    {
     "data": {
      "image/png": "[encoded data removed]",
      "text/plain": [
       "<Figure size 640x480 with 1 Axes>"
      ]
     },
     "metadata": {},
     "output_type": "display_data"
    }
   ],
   "source": [
    "# Histogram of lyrics length\n",
    "pdf = df_train.toPandas()\n",
    "pdf[\"lyrics_length\"].hist(bins=30)\n",
    "plt.title(\"Distribution of Lyrics Length\")\n",
    "plt.show()"
   ]
  }
 ],
 "metadata": {
  "kernelspec": {
   "display_name": "music_classifier",
   "language": "python",
   "name": "python3"
  },
  "language_info": {
   "codemirror_mode": {
    "name": "ipython",
    "version": 3
   },
   "file_extension": ".py",
   "mimetype": "text/x-python",
   "name": "python",
   "nbconvert_exporter": "python",
   "pygments_lexer": "ipython3",
   "version": "3.11.0"
  }
 },
 "nbformat": 4,
 "nbformat_minor": 5
}
