{
 "cells": [
  {
   "cell_type": "code",
   "execution_count": null,
   "id": "2fcba5a4",
   "metadata": {},
   "outputs": [],
   "source": [
    "from pyspark.sql import SparkSession\n",
    "from pyspark.ml.feature import Tokenizer, StopWordsRemover, HashingTF, IDF, StringIndexer\n",
    "from pyspark.ml import Pipeline\n",
    "\n",
    "spark = SparkSession.builder.appName(\"FeatureEngineering\").getOrCreate()\n",
    "\n",
    "df = spark.read.csv(\"../data/Mendeley_cleaned.csv\", header=True, inferSchema=True)\n",
    "\n",
    "# Encode genre labels\n",
    "genre_indexer = StringIndexer(inputCol=\"genre\", outputCol=\"label\")\n",
    "\n",
    "# Tokenize and clean lyrics\n",
    "tokenizer = Tokenizer(inputCol=\"lyrics\", outputCol=\"words\")\n",
    "remover = StopWordsRemover(inputCol=\"words\", outputCol=\"filtered_words\")\n",
    "\n",
    "# TF-IDF\n",
    "hashingTF = HashingTF(inputCol=\"filtered_words\", outputCol=\"raw_features\", numFeatures=10000)\n",
    "idf = IDF(inputCol=\"raw_features\", outputCol=\"features\")\n",
    "\n",
    "# Build pipeline\n",
    "pipeline = Pipeline(stages=[genre_indexer, tokenizer, remover, hashingTF, idf])\n",
    "pipeline_model = pipeline.fit(df)\n",
    "df_transformed = pipeline_model.transform(df)\n",
    "\n",
    "df_transformed.select(\"lyrics\", \"genre\", \"label\", \"features\").show(5)\n",
    "\n",
    "# Save pipeline\n",
    "pipeline_model.write().overwrite().save(\"../data/feature_pipeline_lyrics_only\")\n"
   ]
  }
 ],
 "metadata": {
  "language_info": {
   "name": "python"
  }
 },
 "nbformat": 4,
 "nbformat_minor": 5
}
