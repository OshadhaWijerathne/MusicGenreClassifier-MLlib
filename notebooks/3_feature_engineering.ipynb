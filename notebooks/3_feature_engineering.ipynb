{
 "cells": [
  {
   "cell_type": "code",
   "execution_count": 1,
   "id": "2fcba5a4",
   "metadata": {},
   "outputs": [],
   "source": [
    "from pyspark.sql import SparkSession\n",
    "from pyspark.ml.feature import Tokenizer, StopWordsRemover, HashingTF, IDF, StringIndexer\n",
    "from pyspark.ml import Pipeline"
   ]
  },
  {
   "cell_type": "code",
   "execution_count": 2,
   "id": "47fc4caf",
   "metadata": {},
   "outputs": [],
   "source": [
    "# Stop any existing Spark context\n",
    "try:\n",
    "    spark.stop()\n",
    "except:\n",
    "    pass\n",
    "\n",
    "# Optimized for i5 11th gen + 16GB RAM\n",
    "spark = SparkSession.builder \\\n",
    "    .appName(\"Music_Classifier\") \\\n",
    "    .master(\"local[2]\") \\\n",
    "    .config(\"spark.driver.memory\", \"4g\") \\\n",
    "    .config(\"spark.executor.memory\", \"2g\") \\\n",
    "    .config(\"spark.sql.execution.arrow.pyspark.enabled\", \"false\") \\\n",
    "    .getOrCreate()"
   ]
  },
  {
   "cell_type": "code",
   "execution_count": null,
   "id": "e060adfb",
   "metadata": {},
   "outputs": [],
   "source": [
    "df_train = spark.read.csv(\"./notebook_data/Mendeley_cleaned_train.csv\", header=True, inferSchema=True)"
   ]
  },
  {
   "cell_type": "code",
   "execution_count": 4,
   "id": "4b30a26b",
   "metadata": {},
   "outputs": [],
   "source": [
    "# Encode genre labels\n",
    "genre_indexer = StringIndexer(inputCol=\"genre\", outputCol=\"label\")"
   ]
  },
  {
   "cell_type": "code",
   "execution_count": 5,
   "id": "b55a6582",
   "metadata": {},
   "outputs": [],
   "source": [
    "# Tokenize and clean lyrics\n",
    "tokenizer = Tokenizer(inputCol=\"lyrics\", outputCol=\"words\")\n",
    "remover = StopWordsRemover(inputCol=\"words\", outputCol=\"filtered_words\")"
   ]
  },
  {
   "cell_type": "code",
   "execution_count": 6,
   "id": "785c79f3",
   "metadata": {},
   "outputs": [],
   "source": [
    "# TF-IDF\n",
    "hashingTF = HashingTF(inputCol=\"filtered_words\", outputCol=\"raw_features\", numFeatures=10000)\n",
    "idf = IDF(inputCol=\"raw_features\", outputCol=\"features\")"
   ]
  },
  {
   "cell_type": "code",
   "execution_count": 8,
   "id": "f3bf3868",
   "metadata": {},
   "outputs": [
    {
     "name": "stdout",
     "output_type": "stream",
     "text": [
      "+--------------------+------+\n",
      "|              lyrics| genre|\n",
      "+--------------------+------+\n",
      "|aaaaaaaaaaah yeah...|reggae|\n",
      "|aaahhh animal bea...| blues|\n",
      "|aaaow microphone ...|   pop|\n",
      "|aaaphrodisiac non...|   pop|\n",
      "|abcdeg learn spel...|  jazz|\n",
      "+--------------------+------+\n",
      "only showing top 5 rows\n",
      "\n"
     ]
    }
   ],
   "source": [
    "df_train.show(5)"
   ]
  },
  {
   "cell_type": "code",
   "execution_count": 9,
   "id": "7122b055",
   "metadata": {},
   "outputs": [],
   "source": [
    "# Build pipeline\n",
    "pipeline = Pipeline(stages=[genre_indexer, tokenizer, remover, hashingTF, idf])\n",
    "pipeline_model = pipeline.fit(df_train)\n",
    "df_transformed = pipeline_model.transform(df_train)"
   ]
  },
  {
   "cell_type": "code",
   "execution_count": 10,
   "id": "5e5b2514",
   "metadata": {},
   "outputs": [
    {
     "name": "stdout",
     "output_type": "stream",
     "text": [
      "+--------------------+------+-----+--------------------+--------------------+--------------------+--------------------+\n",
      "|              lyrics| genre|label|               words|      filtered_words|        raw_features|            features|\n",
      "+--------------------+------+-----+--------------------+--------------------+--------------------+--------------------+\n",
      "|aaaaaaaaaaah yeah...|reggae|  5.0|[aaaaaaaaaaah, ye...|[aaaaaaaaaaah, ye...|(10000,[57,1073,1...|(10000,[57,1073,1...|\n",
      "|aaahhh animal bea...| blues|  2.0|[aaahhh, animal, ...|[aaahhh, animal, ...|(10000,[57,99,137...|(10000,[57,99,137...|\n",
      "|aaaow microphone ...|   pop|  0.0|[aaaow, microphon...|[aaaow, microphon...|(10000,[150,166,3...|(10000,[150,166,3...|\n",
      "|aaaphrodisiac non...|   pop|  0.0|[aaaphrodisiac, n...|[aaaphrodisiac, n...|(10000,[1210,1268...|(10000,[1210,1268...|\n",
      "|abcdeg learn spel...|  jazz|  4.0|[abcdeg, learn, s...|[abcdeg, learn, s...|(10000,[393,453,4...|(10000,[393,453,4...|\n",
      "+--------------------+------+-----+--------------------+--------------------+--------------------+--------------------+\n",
      "only showing top 5 rows\n",
      "\n"
     ]
    }
   ],
   "source": [
    "df_transformed.show(5)"
   ]
  },
  {
   "cell_type": "code",
   "execution_count": null,
   "id": "b20d3457",
   "metadata": {},
   "outputs": [],
   "source": [
    "# Save pipeline\n",
    "pipeline_model.write().overwrite().save(\"./notebook_data/feature_pipeline_lyrics_only\")"
   ]
  }
 ],
 "metadata": {
  "kernelspec": {
   "display_name": "music_classifier",
   "language": "python",
   "name": "python3"
  },
  "language_info": {
   "codemirror_mode": {
    "name": "ipython",
    "version": 3
   },
   "file_extension": ".py",
   "mimetype": "text/x-python",
   "name": "python",
   "nbconvert_exporter": "python",
   "pygments_lexer": "ipython3",
   "version": "3.11.0"
  }
 },
 "nbformat": 4,
 "nbformat_minor": 5
}
